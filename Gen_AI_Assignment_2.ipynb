{
  "nbformat": 4,
  "nbformat_minor": 0,
  "metadata": {
    "colab": {
      "provenance": [],
      "authorship_tag": "ABX9TyN5atjB7R6jf2y5m8OgScmr",
      "include_colab_link": true
    },
    "kernelspec": {
      "name": "python3",
      "display_name": "Python 3"
    },
    "language_info": {
      "name": "python"
    }
  },
  "cells": [
    {
      "cell_type": "markdown",
      "metadata": {
        "id": "view-in-github",
        "colab_type": "text"
      },
      "source": [
        "<a href=\"https://colab.research.google.com/github/VivekAdluri/GENERATIVE-AI-2025/blob/main/Gen_AI_Assignment_2.ipynb\" target=\"_parent\"><img src=\"https://colab.research.google.com/assets/colab-badge.svg\" alt=\"Open In Colab\"/></a>"
      ]
    },
    {
      "cell_type": "markdown",
      "source": [
        "## 1 Question"
      ],
      "metadata": {
        "id": "AkuA23SZg9t_"
      }
    },
    {
      "cell_type": "code",
      "execution_count": 9,
      "metadata": {
        "id": "4JHHoDkHN4LG"
      },
      "outputs": [],
      "source": [
        "from scipy.optimize import linprog"
      ]
    },
    {
      "cell_type": "code",
      "source": [
        "c = [-6, -5]\n"
      ],
      "metadata": {
        "id": "VH0yPIjggiB3"
      },
      "execution_count": 10,
      "outputs": []
    },
    {
      "cell_type": "code",
      "source": [
        "A = [\n",
        "    [1, 1],   # Milk constraint\n",
        "    [3, 2]    # Choco constraint\n",
        "]"
      ],
      "metadata": {
        "id": "cA2PIYlzgiJB"
      },
      "execution_count": 11,
      "outputs": []
    },
    {
      "cell_type": "code",
      "source": [
        "b = [5, 12]"
      ],
      "metadata": {
        "id": "Vh9cEIvRgiRB"
      },
      "execution_count": 12,
      "outputs": []
    },
    {
      "cell_type": "code",
      "source": [
        "x0_bounds = (0, None)  # A >= 0\n",
        "x1_bounds = (0, None)  # B >= 0"
      ],
      "metadata": {
        "id": "qj55_zhlgiXn"
      },
      "execution_count": 13,
      "outputs": []
    },
    {
      "cell_type": "code",
      "source": [
        "result = linprog(c, A_ub=A, b_ub=b, bounds=[x0_bounds, x1_bounds], method='highs')"
      ],
      "metadata": {
        "id": "JpIlAJkBgiev"
      },
      "execution_count": 14,
      "outputs": []
    },
    {
      "cell_type": "code",
      "source": [
        "if result.success:\n",
        "    print(f\"Optimal solution found:\")\n",
        "    print(f\"Units of A to produce: {result.x[0]:.2f}\")\n",
        "    print(f\"Units of B to produce: {result.x[1]:.2f}\")\n",
        "    print(f\"Maximum profit: Rs {-result.fun:.2f}\")\n",
        "else:\n",
        "    print(\"No optimal solution found.\")"
      ],
      "metadata": {
        "colab": {
          "base_uri": "https://localhost:8080/"
        },
        "id": "qAm2OS2Hgike",
        "outputId": "e3707143-2c3c-40af-910f-0ad9a505f5a6"
      },
      "execution_count": 15,
      "outputs": [
        {
          "output_type": "stream",
          "name": "stdout",
          "text": [
            "Optimal solution found:\n",
            "Units of A to produce: 2.00\n",
            "Units of B to produce: 3.00\n",
            "Maximum profit: Rs 27.00\n"
          ]
        }
      ]
    },
    {
      "cell_type": "markdown",
      "source": [
        "# 2nd Question"
      ],
      "metadata": {
        "id": "lIFSpyRohUUD"
      }
    },
    {
      "cell_type": "code",
      "source": [
        "from scipy.optimize import linprog"
      ],
      "metadata": {
        "id": "84evad6Ihbsb"
      },
      "execution_count": 16,
      "outputs": []
    },
    {
      "cell_type": "code",
      "source": [
        "c = [-120, -50]"
      ],
      "metadata": {
        "id": "uRUM9GlWhcYL"
      },
      "execution_count": 17,
      "outputs": []
    },
    {
      "cell_type": "code",
      "source": [
        "A = [\n",
        "    [1, 1],          # Land constraint\n",
        "    [7000, 2000],    # Budget constraint\n",
        "    [10, 30]         # Labor constraint\n",
        "]\n",
        "b = [110, 700000, 1200]"
      ],
      "metadata": {
        "id": "mo9xZMRQhcbb"
      },
      "execution_count": 18,
      "outputs": []
    },
    {
      "cell_type": "code",
      "source": [
        "x_bounds = (0, None)  # Bounds for both x1 (Wheat) and x2 (Barley)\n",
        "bounds = [x_bounds, x_bounds]"
      ],
      "metadata": {
        "id": "iLhC1m52hci9"
      },
      "execution_count": 19,
      "outputs": []
    },
    {
      "cell_type": "code",
      "source": [
        "result = linprog(c, A_ub=A, b_ub=b, bounds=bounds, method='highs')"
      ],
      "metadata": {
        "id": "X8CXjf4whcpG"
      },
      "execution_count": 20,
      "outputs": []
    },
    {
      "cell_type": "code",
      "source": [
        "if result.success:\n",
        "    print(\"Optimal Solution Found!\")\n",
        "    print(f\"Area allocated to Wheat (x1): {result.x[0]:.2f} hectares\")\n",
        "    print(f\"Area allocated to Barley (x2): {result.x[1]:.2f} hectares\")\n",
        "    print(f\"Maximum Profit: Rs. {-result.fun:.2f}\")\n",
        "else:\n",
        "    print(\"No optimal solution found.\")"
      ],
      "metadata": {
        "colab": {
          "base_uri": "https://localhost:8080/"
        },
        "id": "8DKHCjEqhcuT",
        "outputId": "e9e7c90b-d63b-4279-9b67-fe126c49b09f"
      },
      "execution_count": 21,
      "outputs": [
        {
          "output_type": "stream",
          "name": "stdout",
          "text": [
            "Optimal Solution Found!\n",
            "Area allocated to Wheat (x1): 97.89 hectares\n",
            "Area allocated to Barley (x2): 7.37 hectares\n",
            "Maximum Profit: Rs. 12115.79\n"
          ]
        }
      ]
    }
  ]
}