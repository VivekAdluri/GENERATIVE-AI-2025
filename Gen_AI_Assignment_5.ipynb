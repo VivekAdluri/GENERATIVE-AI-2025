{
  "nbformat": 4,
  "nbformat_minor": 0,
  "metadata": {
    "colab": {
      "provenance": [],
      "include_colab_link": true
    },
    "kernelspec": {
      "name": "python3",
      "display_name": "Python 3"
    },
    "language_info": {
      "name": "python"
    }
  },
  "cells": [
    {
      "cell_type": "markdown",
      "metadata": {
        "id": "view-in-github",
        "colab_type": "text"
      },
      "source": [
        "<a href=\"https://colab.research.google.com/github/VivekAdluri/GENERATIVE-AI-2025/blob/main/Gen_AI_Assignment_5.ipynb\" target=\"_parent\"><img src=\"https://colab.research.google.com/assets/colab-badge.svg\" alt=\"Open In Colab\"/></a>"
      ]
    },
    {
      "cell_type": "code",
      "execution_count": 1,
      "metadata": {
        "id": "zEkSZvOdah_H"
      },
      "outputs": [],
      "source": [
        "import numpy as np\n",
        "# Sigmoid activation function\n",
        "def sigmoid(x):\n",
        "    return 1 / (1 + np.exp(-x))"
      ]
    },
    {
      "cell_type": "code",
      "source": [
        "# Derivative of the sigmoid function\n",
        "def sigmoid_derivative(x):\n",
        "    return x * (1 - x)"
      ],
      "metadata": {
        "id": "MjxEBLOgbHkG"
      },
      "execution_count": 2,
      "outputs": []
    },
    {
      "cell_type": "code",
      "source": [
        "# Linear activation function\n",
        "def linear(x):\n",
        "    return x\n",
        "# Mean Squared Error (MSE)\n",
        "def mean_squared_error(y_true, y_pred):\n",
        "    return np.mean((y_true - y_pred) ** 2)"
      ],
      "metadata": {
        "id": "qrPZkukNbHm8"
      },
      "execution_count": 3,
      "outputs": []
    },
    {
      "cell_type": "code",
      "source": [
        "# Initialize weights and biases\n",
        "def initialize_parameters(input_size, hidden_size, output_size):\n",
        "    np.random.seed(42)\n",
        "    W1 = np.random.randn(input_size, hidden_size)\n",
        "    b1 = np.zeros((1, hidden_size))\n",
        "    W2 = np.random.randn(hidden_size, output_size)\n",
        "    b2 = np.zeros((1, output_size))\n",
        "    return W1, b1, W2, b2"
      ],
      "metadata": {
        "id": "XHA-VMnBbHpy"
      },
      "execution_count": 4,
      "outputs": []
    },
    {
      "cell_type": "code",
      "source": [
        "# Forward propagation\n",
        "def forward_propagation(X, W1, b1, W2, b2):\n",
        "    Z1 = np.dot(X, W1) + b1\n",
        "    A1 = sigmoid(Z1)\n",
        "    Z2 = np.dot(A1, W2) + b2\n",
        "    A2 = linear(Z2)\n",
        "    return A1, A2"
      ],
      "metadata": {
        "id": "miyJDMA1bHsp"
      },
      "execution_count": 5,
      "outputs": []
    },
    {
      "cell_type": "code",
      "source": [
        "# Backpropagation\n",
        "def backpropagation(X, y, A1, A2, W1, W2, b1, b2, learning_rate):\n",
        "    m = X.shape[0]\n",
        "    # Output layer error\n",
        "    dZ2 = A2 - y\n",
        "    dW2 = np.dot(A1.T, dZ2) / m\n",
        "    db2 = np.sum(dZ2, axis=0, keepdims=True) / m\n",
        "    # Hidden layer error\n",
        "    dA1 = np.dot(dZ2, W2.T)\n",
        "    dZ1 = dA1 * sigmoid_derivative(A1)\n",
        "    dW1 = np.dot(X.T, dZ1) / m\n",
        "    db1 = np.sum(dZ1, axis=0, keepdims=True) / m\n",
        "    # Update weights and biases\n",
        "    W1 -= learning_rate * dW1\n",
        "    b1 -= learning_rate * db1\n",
        "    W2 -= learning_rate * dW2\n",
        "    b2 -= learning_rate * db2\n",
        "    return W1, b1, W2, b2"
      ],
      "metadata": {
        "id": "F_dBiWbibHvg"
      },
      "execution_count": 6,
      "outputs": []
    },
    {
      "cell_type": "code",
      "source": [
        "# Training the model\n",
        "def train_model(X_train, y_train, epochs, learning_rate, input_size, hidden_size, output_size):\n",
        "    W1, b1, W2, b2 = initialize_parameters(input_size, hidden_size, output_size)\n",
        "\n",
        "    for epoch in range(epochs):\n",
        "        A1, A2 = forward_propagation(X_train, W1, b1, W2, b2)\n",
        "        W1, b1, W2, b2 = backpropagation(X_train, y_train, A1, A2, W1, W2, b1, b2, learning_rate)\n",
        "\n",
        "        if epoch % 1000 == 0:\n",
        "            loss = mean_squared_error(y_train, A2)\n",
        "            print(f\"Epoch {epoch}, Loss: {loss}\")\n",
        "\n",
        "    return W1, b1, W2, b2\n"
      ],
      "metadata": {
        "id": "MoJZrDOdawlm"
      },
      "execution_count": 7,
      "outputs": []
    },
    {
      "cell_type": "code",
      "source": [
        "# Predict function\n",
        "def predict(X, W1, b1, W2, b2):\n",
        "    _, A2 = forward_propagation(X, W1, b1, W2, b2)\n",
        "    return A2\n",
        "# Training data\n",
        "X_train = np.array([[0.1, 0.2], [0.2, 0.3], [0.3, 0.4], [0.6, 0.7], [0.7, 0.8], [0.8, 0.9]])\n",
        "y_train = np.array([[0.3432], [0.3490], [0.3548], [0.3720], [0.3776], [0.3832]])\n",
        "\n",
        "# Test data\n",
        "X_test = np.array([[0.4, 0.5], [0.5, 0.6]])\n",
        "y_test = np.array([[0.3606], [0.3663]])\n",
        "\n",
        "# Hyperparameters\n",
        "input_size = 2\n",
        "hidden_size = 4\n",
        "output_size = 1\n",
        "epochs = 10000\n",
        "learning_rate = 0.1\n",
        "\n",
        "# Train the model\n",
        "W1, b1, W2, b2 = train_model(X_train, y_train, epochs, learning_rate, input_size, hidden_size, output_size)\n",
        "\n",
        "# Calculate MSE for training data\n",
        "_, y_train_pred = forward_propagation(X_train, W1, b1, W2, b2)\n",
        "train_mse = mean_squared_error(y_train, y_train_pred)\n",
        "print(f\"Training MSE: {train_mse}\")\n",
        "\n",
        "# Calculate MSE for test data\n",
        "_, y_test_pred = forward_propagation(X_test, W1, b1, W2, b2)\n",
        "test_mse = mean_squared_error(y_test, y_test_pred)\n",
        "print(f\"Test MSE: {test_mse}\")\n",
        "\n",
        "# Predict output for user input\n",
        "user_input = np.array([[float(input(\"Enter x1: \")), float(input(\"Enter x2: \"))]])\n",
        "predicted_output = predict(user_input, W1, b1, W2, b2)\n",
        "print(f\"Predicted Output: {predicted_output}\")"
      ],
      "metadata": {
        "colab": {
          "base_uri": "https://localhost:8080/"
        },
        "id": "9RXjV9z-cXSp",
        "outputId": "3b8ae580-d1a9-4f38-e704-54d38bd60702"
      },
      "execution_count": 8,
      "outputs": [
        {
          "output_type": "stream",
          "name": "stdout",
          "text": [
            "Epoch 0, Loss: 1.1250078869791411\n",
            "Epoch 1000, Loss: 0.00015673020422660706\n",
            "Epoch 2000, Loss: 7.438160360488717e-06\n",
            "Epoch 3000, Loss: 2.0103092450258083e-06\n",
            "Epoch 4000, Loss: 1.8034531844903315e-06\n",
            "Epoch 5000, Loss: 1.787975398822196e-06\n",
            "Epoch 6000, Loss: 1.779561949766924e-06\n",
            "Epoch 7000, Loss: 1.771448650598485e-06\n",
            "Epoch 8000, Loss: 1.763386912053866e-06\n",
            "Epoch 9000, Loss: 1.7553673498509738e-06\n",
            "Training MSE: 1.747389363467758e-06\n",
            "Test MSE: 4.752070273824207e-06\n",
            "Enter x1: 2\n",
            "Enter x2: 4\n",
            "Predicted Output: [[0.43193685]]\n"
          ]
        }
      ]
    }
  ]
}