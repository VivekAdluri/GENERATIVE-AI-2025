{
  "nbformat": 4,
  "nbformat_minor": 0,
  "metadata": {
    "colab": {
      "provenance": [],
      "authorship_tag": "ABX9TyOSiKCBsMyqmpAXkbxDX+Gm",
      "include_colab_link": true
    },
    "kernelspec": {
      "name": "python3",
      "display_name": "Python 3"
    },
    "language_info": {
      "name": "python"
    }
  },
  "cells": [
    {
      "cell_type": "markdown",
      "metadata": {
        "id": "view-in-github",
        "colab_type": "text"
      },
      "source": [
        "<a href=\"https://colab.research.google.com/github/VivekAdluri/GENERATIVE-AI-2025/blob/main/Gen_AI_Assignment_1.ipynb\" target=\"_parent\"><img src=\"https://colab.research.google.com/assets/colab-badge.svg\" alt=\"Open In Colab\"/></a>"
      ]
    },
    {
      "cell_type": "code",
      "source": [
        "\n",
        "Y_actual = [20, 30, 40, 50, 60]\n",
        "Y_pred = [20.5, 30.3, 40.2, 50.6, 60.7]\n"
      ],
      "metadata": {
        "id": "h9J1klsaMsr_"
      },
      "execution_count": 5,
      "outputs": []
    },
    {
      "cell_type": "code",
      "source": [
        "def calculate_mae(y_actual, y_pred):\n",
        "    error_sum = 0\n",
        "    for actual, pred in zip(y_actual, y_pred):\n",
        "        error_sum += abs(actual - pred)\n",
        "    mae = error_sum / len(y_actual)\n",
        "    return mae"
      ],
      "metadata": {
        "id": "elyYbw_fPasJ"
      },
      "execution_count": 6,
      "outputs": []
    },
    {
      "cell_type": "code",
      "source": [
        "def calculate_mse(y_actual, y_pred):\n",
        "    error_sum = 0\n",
        "    for actual, pred in zip(y_actual, y_pred):\n",
        "        error_sum += (actual - pred) ** 2\n",
        "    mse = error_sum / len(y_actual)\n",
        "    return mse\n"
      ],
      "metadata": {
        "id": "PXMrL6cVPav8"
      },
      "execution_count": 7,
      "outputs": []
    },
    {
      "cell_type": "code",
      "source": [
        "def calculate_rmse(y_actual, y_pred):\n",
        "    mse = calculate_mse(y_actual, y_pred)\n",
        "    rmse = mse ** 0.5\n",
        "    return rmse"
      ],
      "metadata": {
        "id": "bVZt-sYPPayy"
      },
      "execution_count": 8,
      "outputs": []
    },
    {
      "cell_type": "code",
      "source": [
        "mae = calculate_mae(Y_actual, Y_pred)\n",
        "mse = calculate_mse(Y_actual, Y_pred)\n",
        "rmse = calculate_rmse(Y_actual, Y_pred)"
      ],
      "metadata": {
        "id": "cBKaGjezPa2O"
      },
      "execution_count": 9,
      "outputs": []
    },
    {
      "cell_type": "code",
      "source": [
        "print(\"Manual Calculation Results:\")\n",
        "print(f\"Mean Absolute Error (MAE): {mae}\")\n",
        "print(f\"Mean Squared Error (MSE): {mse}\")\n",
        "print(f\"Root Mean Squared Error (RMSE): {rmse}\")"
      ],
      "metadata": {
        "colab": {
          "base_uri": "https://localhost:8080/"
        },
        "id": "o2b8A-BCPbAe",
        "outputId": "086f2c86-2a39-4516-e153-98bc4072a998"
      },
      "execution_count": 10,
      "outputs": [
        {
          "output_type": "stream",
          "name": "stdout",
          "text": [
            "Manual Calculation Results:\n",
            "Mean Absolute Error (MAE): 0.4600000000000016\n",
            "Mean Squared Error (MSE): 0.24600000000000147\n",
            "Root Mean Squared Error (RMSE): 0.49598387070549127\n"
          ]
        }
      ]
    }
  ]
}